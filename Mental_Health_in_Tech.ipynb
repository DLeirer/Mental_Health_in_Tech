{
 "cells": [
  {
   "cell_type": "markdown",
   "metadata": {},
   "source": [
    "# Project: Data Analysis of Mental Health Survey Data in Tech.\n",
    "## by Daniel Leirer\n",
    "\n",
    "## Table of Contents\n",
    "\n",
    "<ul>\n",
    "<li><a href=\"#intro\">Introduction</a></li>\n",
    "<li><a href=\"#set&lib\">Settings and Libraries</a></li>\n",
    "<li><a href=\"#clean\">Clean Data</a></li>\n",
    "<li><a href=\"#analysis\">Analysis</a></li>\n",
    "<li><a href=\"#multivar\">Multivariate Exploration</a></li>\n",
    "</ul>"
   ]
  },
  {
   "cell_type": "markdown",
   "metadata": {},
   "source": [
    "<a id='intro'></a>\n",
    "\n",
    "## Introduction\n",
    "\n",
    "This is an exploratory analysis of Mental Health Survey Data in Tech. The data used here is available at  https://osmihelp.org/research.\n",
    "\n",
    "Raw data files were converted to CSV prior to use. "
   ]
  },
  {
   "cell_type": "markdown",
   "metadata": {},
   "source": [
    "<a id=\"set&lib\"></a>\n",
    "    \n",
    "## Settings & Libraries:\n",
    "\n",
    "\n",
    "### Import Packages\n"
   ]
  },
  {
   "cell_type": "code",
   "execution_count": 26,
   "metadata": {},
   "outputs": [],
   "source": [
    "import os\n",
    "import numpy as np\n",
    "import pandas as pd\n",
    "import matplotlib.pyplot as plt\n",
    "import seaborn as sns\n",
    "import scipy.stats\n",
    "from scipy.stats import chi2_contingency\n",
    "\n",
    "#magic for matplotlib\n",
    "%matplotlib inline\n",
    "\n",
    "#make data folder\n",
    "data_dir = \"data\"\n",
    "if not os.path.exists(data_dir):\n",
    "    os.makedirs(data_dir)"
   ]
  },
  {
   "cell_type": "markdown",
   "metadata": {},
   "source": [
    "### Get Survey data\n",
    "Read CSV data."
   ]
  },
  {
   "cell_type": "code",
   "execution_count": 2,
   "metadata": {},
   "outputs": [],
   "source": [
    "#Paths to files\n",
    "MHS_2014_Path = os.path.join(data_dir,\"MHS_2014.csv\")\n",
    "MHS_2016_Path = os.path.join(data_dir,\"MHS_2016.csv\")\n",
    "MHS_2017_Path = os.path.join(data_dir,\"MHS_2017.csv\")\n",
    "MHS_2018_Path = os.path.join(data_dir,\"MHS_2018.csv\")\n",
    "MHS_2019_Path = os.path.join(data_dir,\"MHS_2019.csv\")\n",
    "\n",
    "\n",
    "#Load Data\n",
    "df_mhs2014 = pd.read_csv(MHS_2014_Path, sep=\",\")\n",
    "df_mhs2016 = pd.read_csv(MHS_2016_Path, sep=\",\")\n",
    "df_mhs2017 = pd.read_csv(MHS_2017_Path, sep=\",\")\n",
    "df_mhs2018 = pd.read_csv(MHS_2018_Path, sep=\",\")\n",
    "df_mhs2019 = pd.read_csv(MHS_2019_Path, sep=\",\")\n",
    "\n"
   ]
  },
  {
   "cell_type": "markdown",
   "metadata": {},
   "source": [
    "<a id=\"clean\"></a>\n",
    "## Clean Data\n",
    "\n",
    "### Clean Columns\n",
    "Column names are the questions, which is not ideal. \n",
    "First step is to create new column names, and to create a dataframe that maps the column names to the questions. \n",
    "\n",
    "1. Some column names contain unwanted characters. Remove \n",
    "2. Code new column names.\n",
    "3. Create dataframe for mapping. \n",
    "4. Combine Data. "
   ]
  },
  {
   "cell_type": "code",
   "execution_count": 3,
   "metadata": {},
   "outputs": [],
   "source": [
    "#function to clean columns\n",
    "def clean_cols(input_df):\n",
    "    '''\n",
    "    Function to remove \n",
    "    Input = \n",
    "    Dataframe of survey data.\n",
    "    Output = \n",
    "    columns that are cleaned by removing symbols like (* <)\n",
    "    '''\n",
    "    \n",
    "    list_to_replace = [\"<strong>\",\"</strong>\",\"\\*\"]\n",
    "    for i in list_to_replace:\n",
    "        input_df.columns=input_df.columns.str.replace(i,\"\")\n",
    "        \n",
    "    return (input_df)\n",
    "\n",
    "#clean columns\n",
    "df_mhs2014=clean_cols(df_mhs2014)\n",
    "df_mhs2016=clean_cols(df_mhs2016)\n",
    "df_mhs2017=clean_cols(df_mhs2017)\n",
    "df_mhs2018=clean_cols(df_mhs2018)\n",
    "df_mhs2019=clean_cols(df_mhs2019)\n"
   ]
  },
  {
   "cell_type": "code",
   "execution_count": 4,
   "metadata": {},
   "outputs": [],
   "source": [
    "## 2014 data columns\n",
    "columns_2014 = ['Timestamp', 'Age', 'Gender', 'Country',\n",
    "       'US_state',\n",
    "       'Selfemployed',\n",
    "       'MH_Family_History',\n",
    "       'MH_treatment_professional',\n",
    "       'MH_work_interfere',\n",
    "       'Company_size',\n",
    "       'Company_remote_work_50_perc',\n",
    "       'Company_tech',\n",
    "       'Company_MH_benefits',\n",
    "       'Company_MH_care_known',\n",
    "       'Company_MH_wellness',\n",
    "       'Company_MH_resources_provided',\n",
    "       'Company_MH_program_anonymised',\n",
    "       'Company_MH_medical_leave_ease',\n",
    "       'Company_MH_discuss_neg',\n",
    "       'Company_PH_discuss_neg',\n",
    "       'MH_discuss_willing_Coworker',\n",
    "       'MH_discuss_willing_supervisor',\n",
    "       'Job_interview_MH',\n",
    "       'Job_interview_PH',\n",
    "       'Company_serious_MH_vs_PH',\n",
    "       'MH_Neg_outcome_coworker',\n",
    "       'Comments']\n",
    "\n",
    "\n",
    "## 2016 data columns\n",
    "columns_2016 = ['Selfemployed',\n",
    "       'Company_size',\n",
    "       'Company_tech',\n",
    "       'Company_role_tech',\n",
    "       'Company_MH_benefits',\n",
    "       'Company_MH_benefits_aware',\n",
    "       'Company_MH_benefits_discussed',\n",
    "       'Company_MH_resources',\n",
    "       'Company_MH_resources_anonymous',\n",
    "       'Company_MH_medical_leave_ease',\n",
    "       'Company_MH_discuss_neg',\n",
    "       'Company_PH_discuss_neg',\n",
    "       'MH_discuss_willing_Coworker',\n",
    "       'MH_discuss_willing_Supervisor',\n",
    "       'Company_serious_MH_vs_PH',\n",
    "       'MH_Neg_outcome_coworker',\n",
    "       'MH_Neg_career',\n",
    "       'MH_Coworker_view',\n",
    "       'MH_willing_share_friends',\n",
    "       'MH_badly_handled',\n",
    "       'MH_Family_History',\n",
    "       'MH_past',\n",
    "       'MH_current',\n",
    "       'MH_diagnosed',\n",
    "       'MH_believed_to_have',\n",
    "       'MH_diagnosed_professional',\n",
    "       'MH_diagnosed_conditions_professional',\n",
    "       'MH_treatment_professional',\n",
    "       'MH_work_intereference_treated',\n",
    "       'MH_work_intereference_untreated',\n",
    "       'Age', 'Gender',\n",
    "       'Country',\n",
    "       'US_state',\n",
    "       'Country_work',\n",
    "       'US_state_work',\n",
    "       'Work_position',\n",
    "       'Remote']\n",
    "\n",
    "\n",
    "## 2019 data columns\n",
    "columns_2019 = ['Selfemployed',\n",
    "       'Company_size',\n",
    "       'Company_tech',\n",
    "       'Company_role_tech',\n",
    "       'Company_MH_benefits',\n",
    "       'Company_MH_benefits_aware',\n",
    "       'Company_MH_benefits_discussed',\n",
    "       'Company_MH_resources',\n",
    "       'Company_MH_resources_anonymous',\n",
    "       'Company_MH_medical_leave_ease',\n",
    "       'Coworker_comfort_MH_vs_PH',\n",
    "       'MH_discuss_supervisor',\n",
    "       'MH_discuss_Company_ever',\n",
    "       'MH_discuss_coworker_comfort',\n",
    "       'MH_discuss_coworker',\n",
    "       'Conversation_coworkers_describe',\n",
    "       \"Coworker_MH_Discussed\",\n",
    "       'Company_PH_importance',\n",
    "       'Company_MH_importance',\n",
    "       'MH_current',\n",
    "       'MH_diagnosed_ever',\n",
    "       'MH_diagnoses',\n",
    "       'MH_believed_to_have',\n",
    "       'MH_diagnosed_conditions_professional',\n",
    "       'MH_past',\n",
    "       'MH_treatment_professional',\n",
    "       'MH_Family_History',\n",
    "       'MH_work_intereference_treated',\n",
    "       'MH_work_intereference_untreated',\n",
    "       'MH_treatment_others_effect',\n",
    "       'MH_willing_share_friends',\n",
    "       'Job_interview_PH',\n",
    "       'Job_interview_Why_why_not',\n",
    "       'Job_interview_MH',\n",
    "       'Work_open_about_own_MH',\n",
    "       'Work_team_reaction_to_MH',\n",
    "       'Tech_industry_support_impression',\n",
    "       'Age', 'Gender',\n",
    "       'Country',\n",
    "       'US_state',\n",
    "       'Race', 'Country_work',\n",
    "       'US_state_work']\n",
    "\n",
    "Mental_health_old_cats = [\"Anxiety Disorder (Generalized, Social, Phobia, etc)\",\"Mood Disorder (Depression, Bipolar Disorder, etc)\",\"Psychotic Disorder (Schizophrenia, Schizoaffective, etc)\",\"Eating Disorder (Anorexia, Bulimia, etc)\",\"Attention Deficit Hyperactivity Disorder\",\"Personality Disorder (Borderline, Antisocial, Paranoid, etc)\",\"Obsessive-Compulsive Disorder\",\"Post-traumatic Stress Disorder\",\"Stress Response Syndromes\",\"Dissociative Disorder\",\"Substance Use Disorder\",\"Addictive Disorder\",\"Other\"]\n",
    "Mental_health_new_cats = [\"Anxiety\",\"Mood\",\"Psychotic\",\"Eating\",\"ADHD\",\"Personality\",\"OCD\",\"PTSD\",\"Stress_response\",\"Dissociative\",\"Substance_use\",\"Addictive\",\"Other\"]"
   ]
  },
  {
   "cell_type": "code",
   "execution_count": 5,
   "metadata": {},
   "outputs": [
    {
     "data": {
      "text/html": [
       "<div>\n",
       "<style scoped>\n",
       "    .dataframe tbody tr th:only-of-type {\n",
       "        vertical-align: middle;\n",
       "    }\n",
       "\n",
       "    .dataframe tbody tr th {\n",
       "        vertical-align: top;\n",
       "    }\n",
       "\n",
       "    .dataframe thead th {\n",
       "        text-align: right;\n",
       "    }\n",
       "</style>\n",
       "<table border=\"1\" class=\"dataframe\">\n",
       "  <thead>\n",
       "    <tr style=\"text-align: right;\">\n",
       "      <th></th>\n",
       "      <th>Column_id</th>\n",
       "      <th>Question</th>\n",
       "      <th>Year</th>\n",
       "    </tr>\n",
       "  </thead>\n",
       "  <tbody>\n",
       "    <tr>\n",
       "      <th>0</th>\n",
       "      <td>Timestamp</td>\n",
       "      <td>Timestamp</td>\n",
       "      <td>2014</td>\n",
       "    </tr>\n",
       "    <tr>\n",
       "      <th>1</th>\n",
       "      <td>Age</td>\n",
       "      <td>Age</td>\n",
       "      <td>2014</td>\n",
       "    </tr>\n",
       "    <tr>\n",
       "      <th>2</th>\n",
       "      <td>Gender</td>\n",
       "      <td>Gender</td>\n",
       "      <td>2014</td>\n",
       "    </tr>\n",
       "    <tr>\n",
       "      <th>3</th>\n",
       "      <td>Country</td>\n",
       "      <td>Country</td>\n",
       "      <td>2014</td>\n",
       "    </tr>\n",
       "    <tr>\n",
       "      <th>4</th>\n",
       "      <td>US_state</td>\n",
       "      <td>If you live in the United States, which state ...</td>\n",
       "      <td>2014</td>\n",
       "    </tr>\n",
       "    <tr>\n",
       "      <th>...</th>\n",
       "      <td>...</td>\n",
       "      <td>...</td>\n",
       "      <td>...</td>\n",
       "    </tr>\n",
       "    <tr>\n",
       "      <th>8</th>\n",
       "      <td>Stress_response</td>\n",
       "      <td>Stress Response Syndromes</td>\n",
       "      <td>2018</td>\n",
       "    </tr>\n",
       "    <tr>\n",
       "      <th>9</th>\n",
       "      <td>Dissociative</td>\n",
       "      <td>Dissociative Disorder</td>\n",
       "      <td>2018</td>\n",
       "    </tr>\n",
       "    <tr>\n",
       "      <th>10</th>\n",
       "      <td>Substance_use</td>\n",
       "      <td>Substance Use Disorder</td>\n",
       "      <td>2018</td>\n",
       "    </tr>\n",
       "    <tr>\n",
       "      <th>11</th>\n",
       "      <td>Addictive</td>\n",
       "      <td>Addictive Disorder</td>\n",
       "      <td>2018</td>\n",
       "    </tr>\n",
       "    <tr>\n",
       "      <th>12</th>\n",
       "      <td>Other</td>\n",
       "      <td>Other</td>\n",
       "      <td>2018</td>\n",
       "    </tr>\n",
       "  </tbody>\n",
       "</table>\n",
       "<p>122 rows × 3 columns</p>\n",
       "</div>"
      ],
      "text/plain": [
       "          Column_id                                           Question  Year\n",
       "0         Timestamp                                          Timestamp  2014\n",
       "1               Age                                                Age  2014\n",
       "2            Gender                                             Gender  2014\n",
       "3           Country                                            Country  2014\n",
       "4          US_state  If you live in the United States, which state ...  2014\n",
       "..              ...                                                ...   ...\n",
       "8   Stress_response                          Stress Response Syndromes  2018\n",
       "9      Dissociative                              Dissociative Disorder  2018\n",
       "10    Substance_use                             Substance Use Disorder  2018\n",
       "11        Addictive                                 Addictive Disorder  2018\n",
       "12            Other                                              Other  2018\n",
       "\n",
       "[122 rows x 3 columns]"
      ]
     },
     "execution_count": 5,
     "metadata": {},
     "output_type": "execute_result"
    }
   ],
   "source": [
    "#make dataframes for original column names\n",
    "df_mhs2014_questions = pd.DataFrame( {\"Column_id\" : columns_2014 , \"Question\" : df_mhs2014.columns.values , \"Year\" : \"2014\" }) \n",
    "df_mhs2016_questions = pd.DataFrame( {\"Column_id\" : columns_2016 , \"Question\" : df_mhs2016.columns.values , \"Year\" : \"2016\" }) \n",
    "df_mhs2019_questions = pd.DataFrame( {\"Column_id\" : columns_2019 , \"Question\" : df_mhs2019.columns.values , \"Year\" : \"2019\" }) \n",
    "df_mh_categories = pd.DataFrame( {\"Column_id\" : Mental_health_new_cats, \"Question\" : Mental_health_old_cats , \"Year\" : \"2018\" })\n",
    "\n",
    "#dataframe that stores all column to question translations. \n",
    "df_column_questions_full= pd.concat([df_mhs2014_questions,df_mhs2016_questions,df_mhs2019_questions,df_mh_categories])\n",
    "\n",
    "\n",
    "df_column_questions_full\n",
    "\n",
    "\n",
    "\n",
    "\n",
    "\n"
   ]
  },
  {
   "cell_type": "code",
   "execution_count": 6,
   "metadata": {},
   "outputs": [],
   "source": [
    "#select columns for 2018 and 2017 survey that appear in other surveys and replace column name. \n",
    "def map_col_to_id(input_df, col_dictionary = df_column_questions_full):\n",
    "    '''\n",
    "    Replace column names from survey question to column_id based on existing dictionary.  \n",
    "    Input:\n",
    "    input_df = Dataframe of survey data for 2018 or 2019\n",
    "    col_dictionary = dictionary matching questions to columns. \n",
    "    Output:\n",
    "    Dataframe with new column names. \n",
    "    '''\n",
    "    #Subset dictionary to single instance of question. \n",
    "    col_dictionary = col_dictionary.drop_duplicates(subset=\"Question\")\n",
    "    #check what questions overlap with input_df\n",
    "    col_dictionary = col_dictionary[col_dictionary.Question.isin(input_df.columns)]\n",
    "    #subset input_df columns to ones in col_dictionary and sort to match that order.\n",
    "    input_df=input_df[col_dictionary.Question]\n",
    "    #replace columns in input df with column_id from dictionary.\n",
    "    input_df.columns = col_dictionary.Column_id\n",
    "    return (input_df)\n",
    "\n",
    "#Function to set index and User_ID\n",
    "def make_user_index(input_df,survey_year):\n",
    "    '''\n",
    "    Function to make unique user Ids and index.\n",
    "    Input = \n",
    "    Dataframe of survey data\n",
    "    Year of survey\n",
    "    Output = \n",
    "    Dataframe with year column and index added. \n",
    "    '''\n",
    "    #add column for year of survey\n",
    "    input_df[\"Year\"] = survey_year\n",
    "    #Add userid column\n",
    "    input_df[\"User_ID\"] = range(len(input_df))\n",
    "    #Expand userid to make it a better identifer\n",
    "    input_df[\"User_ID\"] = \"User_\"+input_df.User_ID.astype(str) +\"_\"+input_df.Year.astype(str)\n",
    "    #setIndex\n",
    "    input_df.set_index(input_df[\"User_ID\"],inplace=True)\n",
    "    return (input_df)"
   ]
  },
  {
   "cell_type": "code",
   "execution_count": 7,
   "metadata": {},
   "outputs": [],
   "source": [
    "#Add Columns for mental health disorders. \n",
    "\n",
    "Mental_health_old_cats = [\"Anxiety Disorder (Generalized, Social, Phobia, etc)\",\"Mood Disorder (Depression, Bipolar Disorder, etc)\",\"Psychotic Disorder (Schizophrenia, Schizoaffective, etc)\",\"Eating Disorder (Anorexia, Bulimia, etc)\",\"Attention Deficit Hyperactivity Disorder\",\"Personality Disorder (Borderline, Antisocial, Paranoid, etc)\",\"Obsessive-Compulsive Disorder\",\"Post-traumatic Stress Disorder\",\"Stress Response Syndromes\",\"Dissociative Disorder\",\"Substance Use Disorder\",\"Addictive Disorder\",\"Other\"]\n",
    "Mental_health_new_cats = [\"Anxiety\",\"Mood\",\"Psychotic\",\"Eating\",\"ADHD\",\"Personality\",\"OCD\",\"PTSD\",\"Stress_response\",\"Dissociative\",\"Substance_use\",\"Addictive\",\"Other\"]\n"
   ]
  },
  {
   "cell_type": "code",
   "execution_count": 8,
   "metadata": {},
   "outputs": [],
   "source": [
    "#Change column names to be more readable\n",
    "df_mhs2014 = map_col_to_id(df_mhs2014)\n",
    "df_mhs2016 = map_col_to_id(df_mhs2016)\n",
    "df_mhs2017 = map_col_to_id(df_mhs2017)\n",
    "df_mhs2018 = map_col_to_id(df_mhs2018)\n",
    "df_mhs2019 = map_col_to_id(df_mhs2019)\n",
    "\n",
    "\n",
    "#Add_User_id\n",
    "df_mhs2014 = make_user_index(df_mhs2014,2014)\n",
    "df_mhs2016 = make_user_index(df_mhs2016,2016)\n",
    "df_mhs2017 = make_user_index(df_mhs2017,2017)\n",
    "df_mhs2018 = make_user_index(df_mhs2018,2018)\n",
    "df_mhs2019 = make_user_index(df_mhs2019,2019)"
   ]
  },
  {
   "cell_type": "markdown",
   "metadata": {},
   "source": [
    "### Get Core Features and Clean"
   ]
  },
  {
   "cell_type": "code",
   "execution_count": 9,
   "metadata": {},
   "outputs": [],
   "source": [
    "#combine data\n",
    "df_mhs_core=pd.concat([df_mhs2014,df_mhs2016,df_mhs2017,df_mhs2018,df_mhs2019],sort=True)\n"
   ]
  },
  {
   "cell_type": "code",
   "execution_count": 10,
   "metadata": {},
   "outputs": [],
   "source": [
    "## Mental Health Categories clean. \n",
    "\n",
    "#loop through mental health categories, and add to columns if found. \n",
    "for i in range(len(Mental_health_old_cats)):\n",
    "    #find mental health conditions in diagnosed conditions professional column. \n",
    "    mh_cat_finder=df_mhs_core.MH_diagnosed_conditions_professional.str.contains(Mental_health_old_cats[i],regex=False)\n",
    "    #subset to rows where old category was found, and the new column where it should be. Write Yes.\n",
    "    df_mhs_core.loc[mh_cat_finder == True,Mental_health_new_cats[i]] = \"Yes\"\n",
    "\n",
    "#for loop to replace values other than \"yes\" with yes. This is for surveys from 2017 and 2018 where the actual disease description is in each column.\n",
    "for i in range(len(Mental_health_old_cats)):\n",
    "    df_mhs_core.loc[(df_mhs_core[Mental_health_new_cats[i]] != \"Yes\") & (df_mhs_core[Mental_health_new_cats[i]].isna() == False),Mental_health_new_cats[i]] = \"Yes\"\n"
   ]
  },
  {
   "cell_type": "code",
   "execution_count": 11,
   "metadata": {},
   "outputs": [],
   "source": [
    "# Count number of condition to get comorbidity\n",
    "df_mhs_core[\"comorbidity\"] = df_mhs_core[Mental_health_new_cats].isin([\"Yes\"]).sum(axis=1)"
   ]
  },
  {
   "cell_type": "code",
   "execution_count": 12,
   "metadata": {},
   "outputs": [],
   "source": [
    "## Clean Medical Leave Ease\n",
    "df_mhs_core[\"Company_MH_medical_leave_ease\"].replace([\"Don't know\",\"I don't know\"],np.nan,inplace=True)\n",
    "df_mhs_core[\"Company_MH_medical_leave_ease\"].replace([\"Difficult\"],\"Somewhat difficult\",inplace=True)"
   ]
  },
  {
   "cell_type": "code",
   "execution_count": 13,
   "metadata": {},
   "outputs": [
    {
     "data": {
      "text/plain": [
       "<matplotlib.axes._subplots.AxesSubplot at 0x24bd67d35b0>"
      ]
     },
     "execution_count": 13,
     "metadata": {},
     "output_type": "execute_result"
    },
    {
     "data": {
      "image/png": "[encoded data removed]",
      "text/plain": [
       "<Figure size 432x288 with 1 Axes>"
      ]
     },
     "metadata": {
      "needs_background": "light"
     },
     "output_type": "display_data"
    }
   ],
   "source": [
    "## Clean Age\n",
    "\n",
    "#set ages below 0 and above 70 to Nan\n",
    "df_mhs_core.Age.where((df_mhs_core.Age > 16) & (df_mhs_core.Age < 65), np.NaN, inplace = True)\n",
    "\n",
    "df_mhs_core.Age.hist()"
   ]
  },
  {
   "cell_type": "code",
   "execution_count": 14,
   "metadata": {},
   "outputs": [
    {
     "data": {
      "text/plain": [
       "Male      3055\n",
       "Female    1031\n",
       "Queer       75\n",
       "Trans       17\n",
       "None        16\n",
       "Name: Gender, dtype: int64"
      ]
     },
     "execution_count": 14,
     "metadata": {},
     "output_type": "execute_result"
    }
   ],
   "source": [
    "## Clean Gender\n",
    "male_var = ['M', 'male',  'm', 'Male-ish', 'maile','something kinda male?','Cis Male','Mal', 'Male (CIS)','Make', 'Guy (-ish) ^_^', 'male leaning androgynous', 'Male ', 'Man','msle','Cis Man','Mail', 'cis male',\n",
    "       'Malr','ostensibly male, unsure what that really means','man','Cis male', 'Male.', \n",
    "         'Male (cis)','Sex is male',\"I'm a man why didn't you make this a drop down question. You should of asked sex? And I would of answered yes please. Seriously how much text can this take? \",\n",
    "       'mail', 'M|','Dude','cis man',   'Masculine', 'Cishet male','male ','cisdude','Let\\'s keep it simple and say \"male\"', 'MALE','Identify as male',       'I have a penis', 'masculino', \n",
    "        'CIS Male', \"male (hey this is the tech industry you're talking about)\", 'male, born with xy chromosoms','male/androgynous ','Male',\n",
    " 'cis male ','cis-male', 'cis hetero male', 'Male, cis','Malel',  'dude','Cis-male','Cisgender male','Ostensibly Male']\n",
    "female_var = ['Cis Female','female', 'F','Woman', 'f','Female ','cis-female/femme','Female (cis)',  'femail', 'Femake', 'woman',\n",
    "       'I identify as female.', 'female ','Female assigned at birth ',  'fm', 'Cis female ','Female or Multi-Gender Femme','female/woman','Female (props for making this a freeform field, though)',\n",
    "       ' Female','Cisgender Female','fem', 'Cis-woman', 'female-bodied; no feelings about gender','Femile','Female-identified','cis woman', \n",
    "       'femmina', 'female (cis)','female (cisgender)','femalw','cisgender female','cis female','cis-Female','Woman-identified', 'I identify as female',\n",
    "  'My sex is female.', 'Cis woman','Cis-Female','F, cisgender','Cisgendered woman','Female','Female (cis) ','Female (cisgender)','Female-ish']\n",
    "trans_var = ['Transgender woman','Trans-female','Trans woman','Female (trans)','Transitioned, M2F','Other/Transfeminine','Agender trans woman','mtf','Trans female', 'trans woman','transgender','Female_trans','Trans man','Male (trans, FtM)','Male_trans','Trans non-binary/genderfluid']\n",
    "queer_variations = ['queer/she/they','non-binary','fluid', 'Genderqueer', 'Androgyne', 'Agender','Neuter','queer','Bigender','male 9:1 female, roughly','Genderfluid (born female)','Male/genderqueer','Androgynous','Other',\n",
    "       'nb masculine','genderqueer','Genderfluid','genderqueer woman',  'Queer','Genderflux demi-girl', 'agender', 'Questioning','Non-binary', 'Fluid','Nonbinary',   'Non binary','Non-binary and gender fluid','None', 'non binary','nonbinary','none','sometimes','uhhhhhhhhh fem genderqueer?', 'gender non-conforming woman','genderfluid', 'Transfeminine','Male (or female, or both)', 'Nonbinary/femme', 'Genderqueer/non-binary', 'Genderqueer demigirl', 'Contextual', 'Demiguy', 'NB', 'None', 'Queer','*shrug emoji* (F)',\n",
    " 'Agender/genderfluid','Female/gender non-binary.','SWM','She/her/they/them',\"None\"]\n",
    "NA_var = ['Nah', 'All','Enby', 'A little about you','p','Unicorn','I am a Wookie','none of your business',  'Human','human','rr', '43', 'AFAB','God King of the Valajar','\\\\-']\n",
    "\n",
    "\n",
    "#list of gender variations\n",
    "gender_var_list = [male_var,female_var,trans_var,queer_variations,NA_var]\n",
    "        \n",
    "#List of new categories\n",
    "new_gender_cats = [\"Male\",\"Female\",\"Trans\",\"Queer\",\"None\"]\n",
    "\n",
    "#loop to replace gender variables\n",
    "for g in range(len(new_gender_cats)):\n",
    "        df_mhs_core.Gender.replace(gender_var_list[g],new_gender_cats[g],inplace=True)\n",
    "        \n",
    "#check gender categories\n",
    "df_mhs_core.Gender.value_counts()\n"
   ]
  },
  {
   "cell_type": "code",
   "execution_count": 15,
   "metadata": {},
   "outputs": [],
   "source": [
    "#Clean Country\n",
    "df_mhs_core.Country.replace(['United States','United States of America'],\"USA\",inplace=True)\n",
    "\n",
    "#Clean company size\n",
    "df_mhs_core.Company_size.replace([\"25-Jun\",\"5-Jan\",\"More than 1000\"],[\"6-25\",\"1-5\",\"1000+\"],inplace=True)\n",
    "df_mhs_core.Company_size=df_mhs_core.Company_size.astype('category').cat.set_categories([\"1-5\", \"6-25\", \"26-100\", \"100-500\", \"500-1000\", \"1000+\"], ordered=True)\n",
    "\n",
    "#Clean Mental Health Treatment.\n",
    "df_mhs_core.MH_treatment_professional.replace([1,0],[\"Yes\",\"No\"],inplace=True)\n",
    "\n",
    "#Clean Selfemployed\n",
    "df_mhs_core.Selfemployed.replace([1,0],[\"Yes\",\"No\"],inplace=True)\n",
    "\n",
    "#Clean Company Benefits\n",
    "df_mhs_core.Company_MH_benefits.replace(['Not eligible for coverage / N/A','Not eligible for coverage / NA'],np.nan,inplace=True)\n",
    "df_mhs_core.Company_MH_benefits.replace([\"Don't know\", \"I don't know\"],\"Unknown\",inplace=True)\n"
   ]
  },
  {
   "cell_type": "markdown",
   "metadata": {},
   "source": [
    "<a id=\"analysis\"></a>\n",
    "\n",
    "## Analysis:\n",
    "Questions. How old are men and women. "
   ]
  },
  {
   "cell_type": "code",
   "execution_count": 16,
   "metadata": {},
   "outputs": [],
   "source": [
    "##### Plotting functions ########\n",
    "#function to calculate proportions for plotting. \n",
    "def proportion_calc(input_df,group_vars,outcome_var):\n",
    "    ''' \n",
    "    Function to calculate Proportion of outcome variable in groups. \n",
    "    \n",
    "    Input: \n",
    "        input_df - this is the input datafame that contains all group variables and outcome variable.\n",
    "        group_vars - Variables to groupby\n",
    "        outcome_var - the variable of interest. \n",
    "    Output: \n",
    "        output_df - this is a dataframe with the proportions of outcome_var in a column. \n",
    "    '''\n",
    "    \n",
    "    output_df=input_df.groupby(by=group_vars)[outcome_var].value_counts(normalize=True).rename(\"Proportion\").reset_index()\n",
    "    return output_df\n",
    " \n",
    "#Function to plot categorical plot.\n",
    "def plot_prop(input_df,x_var, x_label, hue):\n",
    "    '''\n",
    "    Function to plot data from proportion_calc\n",
    "    \n",
    "    Input:\n",
    "        input_df - dataframe with proportion column. From proportion_calc\n",
    "        x_var - x axis variable (categorical)\n",
    "        x_label - x axis label\n",
    "        hue - hue. see Seaborn documentation.\n",
    "    Output:\n",
    "        Outputs categorical plot\n",
    "    '''\n",
    "    base_color = sns.color_palette()[0]\n",
    "    g = sns.catplot(data=temp_df, x=x_var, y=\"Proportion\", hue=hue, kind='bar',legend=False,color = base_color)\n",
    "    g.add_legend()\n",
    "    (g.set_axis_labels(x_label)\n",
    "       .despine(left=True))\n"
   ]
  },
  {
   "cell_type": "markdown",
   "metadata": {},
   "source": [
    "### 1 There is a relationship between company size and providing mental health benefits. \n",
    "This makes sense, small startups don't have the resources for mental health packages. "
   ]
  },
  {
   "cell_type": "code",
   "execution_count": 72,
   "metadata": {},
   "outputs": [
    {
     "data": {
      "text/plain": [
       "<seaborn.axisgrid.FacetGrid at 0x24bd7184b20>"
      ]
     },
     "execution_count": 72,
     "metadata": {},
     "output_type": "execute_result"
    },
    {
     "data": {
      "image/png": "[encoded data removed]",
      "text/plain": [
       "<Figure size 1080x360 with 3 Axes>"
      ]
     },
     "metadata": {
      "needs_background": "light"
     },
     "output_type": "display_data"
    }
   ],
   "source": [
    "#Get Proportions for Company Size and Mental Health Benefits. \n",
    "prop_benefits=proportion_calc(df_mhs_core,\"Company_size\",\"Company_MH_benefits\")\n",
    "prop_benefits.Company_size=prop_benefits.Company_size.astype('category').cat.set_categories([\"1-5\", \"6-25\", \"26-100\", \"100-500\", \"500-1000\", \"1000+\"], ordered=True)\n",
    "prop_benefits.Company_MH_benefits=prop_benefits.Company_MH_benefits.astype('category').cat.set_categories([\"Yes\",\"No\",\"Unknown\"], ordered=True)\n",
    "#prop_benefits=prop_benefits.loc[prop_benefits[\"Company_MH_benefits\"] == \"Yes\",]\n",
    "\n",
    "#Plot\n",
    "base_color = sns.color_palette()[0]\n",
    "g = sns.catplot(data=prop_benefits, x=\"Company_size\", y=\"Proportion\", col=\"Company_MH_benefits\", kind='bar',legend=False,color = base_color)\n",
    "(g.set_axis_labels(\"Company Size\")\n",
    "       .despine(left=True))\n"
   ]
  },
  {
   "cell_type": "code",
   "execution_count": 77,
   "metadata": {},
   "outputs": [
    {
     "name": "stdout",
     "output_type": "stream",
     "text": [
      "P-value:  1.1975129062102964e-109\n"
     ]
    }
   ],
   "source": [
    "## Chi square test.\n",
    "chi2_results = chi2_contingency(pd.crosstab(df_mhs_core[\"Company_size\"], df_mhs_core[\"Company_MH_benefits\"]))\n",
    "\n",
    "print(\"P-value: \",chi2_results[1])"
   ]
  },
  {
   "cell_type": "markdown",
   "metadata": {},
   "source": [
    "### 2 Having Mental Health benefits does not neccesairly make it easier to ask for mental health leave. But the absence of benefits makes it much harder. \n"
   ]
  },
  {
   "cell_type": "code",
   "execution_count": 75,
   "metadata": {},
   "outputs": [
    {
     "data": {
      "text/plain": [
       "<seaborn.axisgrid.FacetGrid at 0x24bd710c8e0>"
      ]
     },
     "execution_count": 75,
     "metadata": {},
     "output_type": "execute_result"
    },
    {
     "data": {
      "image/png": "[encoded data removed]",
      "text/plain": [
       "<Figure size 1080x360 with 3 Axes>"
      ]
     },
     "metadata": {
      "needs_background": "light"
     },
     "output_type": "display_data"
    }
   ],
   "source": [
    "df_mhs_core[['Company_MH_medical_leave_ease','Company_MH_importance','Company_PH_importance','Company_size','Company_MH_benefits']].groupby('Company_MH_benefits')\n",
    "\n",
    "prop_benefits=proportion_calc(df_mhs_core,'Company_MH_medical_leave_ease','Company_MH_benefits')\n",
    "prop_benefits.Company_MH_medical_leave_ease=prop_benefits.Company_MH_medical_leave_ease.astype('category').cat.set_categories(['Very easy', 'Somewhat easy','Neither easy nor difficult','Somewhat difficult','Very difficult'], ordered=True)\n",
    "prop_benefits.Company_MH_benefits=prop_benefits.Company_MH_benefits.astype('category').cat.set_categories([\"Yes\",\"No\",\"Unknown\"], ordered=True)\n",
    "\n",
    "g = sns.catplot(data=prop_benefits, x=\"Company_MH_medical_leave_ease\", y=\"Proportion\", kind='bar', col=\"Company_MH_benefits\",legend=False,color = base_color)\n",
    "(g.set_axis_labels(\"Ease of asking for leave due to mental health\")\n",
    "       .despine(left=True))\n",
    "g.set_xticklabels(rotation=45)\n"
   ]
  },
  {
   "cell_type": "code",
   "execution_count": 76,
   "metadata": {},
   "outputs": [
    {
     "name": "stdout",
     "output_type": "stream",
     "text": [
      "P-value:  1.560031358573685e-11\n"
     ]
    }
   ],
   "source": [
    "## Chi square test.\n",
    "chi2_results = chi2_contingency(pd.crosstab(df_mhs_core[\"Company_MH_medical_leave_ease\"], df_mhs_core[\"Company_MH_benefits\"]))\n",
    "\n",
    "print(\"P-value: \",chi2_results[1])"
   ]
  },
  {
   "cell_type": "markdown",
   "metadata": {},
   "source": [
    "### 3 Relationship between Mental Health importance and Phyisical health imporatance.\n",
    "Individuals percieve that if their company places importance on mental health they also place more importance on physical health and vice versa. In general however, Employees feel that Physical Health is seen as more important. \n",
    "A belief that the company places importance in mental health also correlated positevly with overall impression of the tech industry support and the reaction of direct coworkers to disclosing mental health issues. "
   ]
  },
  {
   "cell_type": "code",
   "execution_count": 93,
   "metadata": {},
   "outputs": [
    {
     "data": {
      "image/png": "[encoded data removed]",
      "text/plain": [
       "<Figure size 720x720 with 2 Axes>"
      ]
     },
     "metadata": {
      "needs_background": "light"
     },
     "output_type": "display_data"
    }
   ],
   "source": [
    "### 3 Relationship between Mental Health importance and Phyisical health imporatance.\n",
    "columns_to_check = ['Company_MH_importance', 'Company_PH_importance','Tech_industry_support_impression','Work_team_reaction_to_MH']\n",
    "df_mhs_copy = df_mhs_core[columns_to_check].copy()\n",
    "corrMatrix_full = df_mhs_copy.corr()\n",
    "\n",
    "plt.figure(figsize = [10,10])\n",
    "ht = sns.heatmap(corrMatrix_full, annot = True,cmap = 'vlag_r',fmt = '.2f',center = 0)"
   ]
  },
  {
   "cell_type": "code",
   "execution_count": 125,
   "metadata": {},
   "outputs": [
    {
     "data": {
      "text/plain": [
       "<seaborn.axisgrid.FacetGrid at 0x24bd7225550>"
      ]
     },
     "execution_count": 125,
     "metadata": {},
     "output_type": "execute_result"
    },
    {
     "data": {
      "image/png": "[encoded data removed]",
      "text/plain": [
       "<Figure size 368x360 with 1 Axes>"
      ]
     },
     "metadata": {
      "needs_background": "light"
     },
     "output_type": "display_data"
    }
   ],
   "source": [
    "df_mhs_a16=df_mhs_core[df_mhs_core[\"Year\"] > 2016]\n",
    "df_mhs_a16 = df_mhs_a16[[\"Company_PH_importance\",\"Company_MH_importance\",\"Year\"]]\n",
    "\n",
    "\n",
    "\n",
    "df_mhs_a16=pd.melt(df_mhs_core,id_vars=[\"User_ID\",\"Year\"],value_vars=[\"Company_PH_importance\",\"Company_MH_importance\"],var_name='MH_v_PH')\n",
    "df_mhs_a16=df_mhs_a16[df_mhs_a16[\"Year\"] > 2016]\n",
    "\n",
    "\n",
    "g = sns.catplot(data=df_mhs_a16, x=\"MH_v_PH\", y=\"value\",kind='box',color = base_color,legend=False)\n",
    "g.add_legend()\n",
    "(g.set_axis_labels(\"\",\"Importance\")\n",
    "    .despine(left=True))  \n",
    "g.set_xticklabels([\"Physical Health\",\"Mental Health\"])"
   ]
  },
  {
   "cell_type": "markdown",
   "metadata": {},
   "source": [
    "### For people with mental health problems that often interefere with their work when untreated, 90% see improvement with proper treatment. "
   ]
  },
  {
   "cell_type": "code",
   "execution_count": 126,
   "metadata": {},
   "outputs": [
    {
     "data": {
      "text/plain": [
       "<seaborn.axisgrid.FacetGrid at 0x24bd738f5b0>"
      ]
     },
     "execution_count": 126,
     "metadata": {},
     "output_type": "execute_result"
    },
    {
     "data": {
      "image/png": "[encoded data removed]",
      "text/plain": [
       "<Figure size 360x360 with 1 Axes>"
      ]
     },
     "metadata": {
      "needs_background": "light"
     },
     "output_type": "display_data"
    }
   ],
   "source": [
    "#remove indivduals who are have not found applicable treatment\n",
    "df_mhs_treated=df_mhs_core.loc[df_mhs_core[\"MH_work_intereference_treated\"] != \"Not applicable to me\",]\n",
    "\n",
    "prop_benefits=proportion_calc(df_mhs_treated,\"MH_work_intereference_untreated\",\"MH_work_intereference_treated\")\n",
    "\n",
    "prop_benefits=prop_benefits.loc[prop_benefits[\"MH_work_intereference_untreated\"] == \"Often\",]\n",
    "\n",
    "prop_benefits.MH_work_intereference_treated=prop_benefits.MH_work_intereference_treated.astype('category').cat.set_categories([\"Often\",\"Sometimes\",\"Rarely\",\"Never\"], ordered=True)\n",
    "\n",
    "#Plot\n",
    "g = sns.catplot(data=prop_benefits, x=\"MH_work_intereference_treated\", y=\"Proportion\", kind='bar',legend=False,color = base_color)\n",
    "(g.set_axis_labels(\"Company Size\")\n",
    "       .despine(left=True))"
   ]
  },
  {
   "cell_type": "markdown",
   "metadata": {},
   "source": [
    "### 1: Mental Illness, describe. How many conditions, comorbidty. \n",
    "\n",
    "\n",
    "Looking at the data it appears that Mood & Anxiety disorders are the most common, followed by ADHD and PTSD. \n"
   ]
  },
  {
   "cell_type": "code",
   "execution_count": 127,
   "metadata": {},
   "outputs": [
    {
     "data": {
      "text/html": [
       "<div>\n",
       "<style scoped>\n",
       "    .dataframe tbody tr th:only-of-type {\n",
       "        vertical-align: middle;\n",
       "    }\n",
       "\n",
       "    .dataframe tbody tr th {\n",
       "        vertical-align: top;\n",
       "    }\n",
       "\n",
       "    .dataframe thead th {\n",
       "        text-align: right;\n",
       "    }\n",
       "</style>\n",
       "<table border=\"1\" class=\"dataframe\">\n",
       "  <thead>\n",
       "    <tr style=\"text-align: right;\">\n",
       "      <th></th>\n",
       "      <th>index</th>\n",
       "      <th>Number</th>\n",
       "    </tr>\n",
       "  </thead>\n",
       "  <tbody>\n",
       "    <tr>\n",
       "      <th>0</th>\n",
       "      <td>Mood</td>\n",
       "      <td>907</td>\n",
       "    </tr>\n",
       "    <tr>\n",
       "      <th>1</th>\n",
       "      <td>Anxiety</td>\n",
       "      <td>731</td>\n",
       "    </tr>\n",
       "    <tr>\n",
       "      <th>2</th>\n",
       "      <td>ADHD</td>\n",
       "      <td>250</td>\n",
       "    </tr>\n",
       "    <tr>\n",
       "      <th>3</th>\n",
       "      <td>PTSD</td>\n",
       "      <td>164</td>\n",
       "    </tr>\n",
       "    <tr>\n",
       "      <th>4</th>\n",
       "      <td>OCD</td>\n",
       "      <td>92</td>\n",
       "    </tr>\n",
       "    <tr>\n",
       "      <th>5</th>\n",
       "      <td>Stress_response</td>\n",
       "      <td>62</td>\n",
       "    </tr>\n",
       "    <tr>\n",
       "      <th>6</th>\n",
       "      <td>Personality</td>\n",
       "      <td>56</td>\n",
       "    </tr>\n",
       "    <tr>\n",
       "      <th>7</th>\n",
       "      <td>Eating</td>\n",
       "      <td>54</td>\n",
       "    </tr>\n",
       "    <tr>\n",
       "      <th>8</th>\n",
       "      <td>Substance_use</td>\n",
       "      <td>50</td>\n",
       "    </tr>\n",
       "    <tr>\n",
       "      <th>9</th>\n",
       "      <td>Addictive</td>\n",
       "      <td>33</td>\n",
       "    </tr>\n",
       "    <tr>\n",
       "      <th>10</th>\n",
       "      <td>Psychotic</td>\n",
       "      <td>24</td>\n",
       "    </tr>\n",
       "    <tr>\n",
       "      <th>11</th>\n",
       "      <td>Dissociative</td>\n",
       "      <td>24</td>\n",
       "    </tr>\n",
       "    <tr>\n",
       "      <th>12</th>\n",
       "      <td>Other</td>\n",
       "      <td>12</td>\n",
       "    </tr>\n",
       "  </tbody>\n",
       "</table>\n",
       "</div>"
      ],
      "text/plain": [
       "              index  Number\n",
       "0              Mood     907\n",
       "1           Anxiety     731\n",
       "2              ADHD     250\n",
       "3              PTSD     164\n",
       "4               OCD      92\n",
       "5   Stress_response      62\n",
       "6       Personality      56\n",
       "7            Eating      54\n",
       "8     Substance_use      50\n",
       "9         Addictive      33\n",
       "10        Psychotic      24\n",
       "11     Dissociative      24\n",
       "12            Other      12"
      ]
     },
     "execution_count": 127,
     "metadata": {},
     "output_type": "execute_result"
    },
    {
     "data": {
      "image/png": "[encoded data removed]",
      "text/plain": [
       "<Figure size 360x360 with 1 Axes>"
      ]
     },
     "metadata": {
      "needs_background": "light"
     },
     "output_type": "display_data"
    }
   ],
   "source": [
    "### What disorders are most frequent? \n",
    "\n",
    "df_mental_health=pd.melt(df_mhs_core,id_vars=[\"User_ID\",\"comorbidity\"],value_vars=Mental_health_new_cats)\n",
    "\n",
    "\n",
    "df_n_mh_cats=df_mental_health.dropna().variable.value_counts(normalize=True).rename(\"Proportion\").reset_index()\n",
    "#Plot\n",
    "g = sns.catplot(data=df_n_mh_cats, x=\"Proportion\", y=\"index\", kind='bar',legend=False,color = base_color)\n",
    "(g.set_axis_labels(\"Proportion\",\"\")\n",
    "       .despine(left=True))\n",
    "\n",
    "df_num_cats=df_mental_health.dropna().variable.value_counts(normalize=False).rename(\"Number\").reset_index()\n",
    "df_num_cats\n",
    "\n",
    "\n"
   ]
  },
  {
   "cell_type": "markdown",
   "metadata": {},
   "source": [
    "### 2: Productivity.\n",
    "How are people affected at work. What conditions are worst?\n",
    "\n",
    "\n",
    "ADHD, Anxietry and PTSD are most affected. "
   ]
  },
  {
   "cell_type": "code",
   "execution_count": 129,
   "metadata": {},
   "outputs": [],
   "source": [
    "#define variables that are important to keep for this exploration.\n",
    "productivity_vars=[\"User_ID\",\"comorbidity\",\"MH_work_intereference_untreated\",\"MH_work_intereference_treated\"]\n",
    "#melt data \n",
    "df_mental_health=pd.melt(df_mhs_core,id_vars=productivity_vars,value_vars=Mental_health_new_cats,var_name='Condition')\n",
    "#subset to indiviuals with 4 or less comorbid conditions. \n",
    "df_mental_health=df_mental_health[df_mental_health.comorbidity <= 4]\n",
    "#remove individuals who awnsered \"not applicable to me\" to either intereference question. \n",
    "df_mental_health=df_mental_health[(df_mental_health.MH_work_intereference_treated != \"Not applicable to me\") & (df_mental_health.MH_work_intereference_untreated != \"Not applicable to me\")]\n",
    "#dropnas \n",
    "df_mental_health.dropna(inplace=True)\n",
    "\n",
    "#Check most common condtions. \n",
    "df_mental_health[\"Condition\"].value_counts()\n",
    "common_conditions=[\"Mood\",\"Anxiety\",\"ADHD\",\"PTSD\",\"OCD\"]\n",
    "\n",
    "df_mental_health=df_mental_health[df_mental_health[\"Condition\"].isin(common_conditions)]\n",
    "\n",
    "df_mh_untreated=df_mental_health.groupby([\"Condition\"])[\"MH_work_intereference_untreated\"].value_counts(normalize=True).rename(\"Proportion\").reset_index()\n",
    "\n"
   ]
  },
  {
   "cell_type": "code",
   "execution_count": 130,
   "metadata": {},
   "outputs": [
    {
     "data": {
      "text/plain": [
       "<seaborn.axisgrid.FacetGrid at 0x24bd7282310>"
      ]
     },
     "execution_count": 130,
     "metadata": {},
     "output_type": "execute_result"
    },
    {
     "data": {
      "image/png": "[encoded data removed]",
      "text/plain": [
       "<Figure size 1088x720 with 5 Axes>"
      ]
     },
     "metadata": {
      "needs_background": "light"
     },
     "output_type": "display_data"
    }
   ],
   "source": [
    "cat_order= ['Often', 'Sometimes','Rarely','Never']\n",
    "\n",
    "g = sns.catplot(data=df_mh_untreated, x=\"MH_work_intereference_untreated\", y=\"Proportion\",\n",
    "                col=\"Condition\", kind='bar',order=cat_order,col_wrap=3,\n",
    "                sharex=True,sharey=True,color = base_color,legend=False)\n",
    "g.add_legend()\n",
    "#g.plt.xlabel(\"Sense of Belonging - Feel Like Outsider\")\n",
    "(g.set_axis_labels(\"How often does mental health interfere with work when untreated?\")\n",
    "   .despine(left=True))  "
   ]
  },
  {
   "cell_type": "markdown",
   "metadata": {},
   "source": [
    "It looks like ADHD has the largest proportion of individuals who are often affected. \n",
    "To look at this more closely I am going to recode the survey results as numbers and calculate the decrease in how individuals were affected. "
   ]
  },
  {
   "cell_type": "code",
   "execution_count": null,
   "metadata": {},
   "outputs": [],
   "source": [
    "#define variables that are important to keep for this exploration.\n",
    "productivity_vars=[\"User_ID\",\"comorbidity\",\"MH_work_intereference_untreated\",\"MH_work_intereference_treated\"]\n",
    "#melt data \n",
    "df_mental_health=pd.melt(df_mhs_core,id_vars=productivity_vars,value_vars=Mental_health_new_cats,var_name='Condition')\n",
    "#subset to indiviuals with 4 or less comorbid conditions. \n",
    "df_mental_health=df_mental_health[df_mental_health.comorbidity <= 1]\n",
    "#remove individuals who awnsered \"not applicable to me\" to either intereference question. \n",
    "df_mental_health=df_mental_health[(df_mental_health.MH_work_intereference_treated != \"Not applicable to me\") & (df_mental_health.MH_work_intereference_untreated != \"Not applicable to me\")]\n",
    "#dropnas \n",
    "df_mental_health.dropna(inplace=True)\n",
    "\n",
    "#Check most common condtions. \n",
    "df_mental_health[\"Condition\"].value_counts()\n",
    "common_conditions=[\"Mood\",\"Anxiety\",\"ADHD\",\"PTSD\",\"OCD\"]\n",
    "\n",
    "df_mental_health=df_mental_health[df_mental_health[\"Condition\"].isin(common_conditions)]\n",
    "\n",
    "\n",
    "df_mental_health.Condition.value_counts()"
   ]
  },
  {
   "cell_type": "markdown",
   "metadata": {},
   "source": [
    "### When treated ADHD sees the highest improvement according to self reports. "
   ]
  },
  {
   "cell_type": "code",
   "execution_count": null,
   "metadata": {},
   "outputs": [],
   "source": [
    "#change to categorical\n",
    "df_mental_health[\"MH_work_intereference_untreated\"]= df_mental_health[\"MH_work_intereference_untreated\"].astype('category').cat.set_categories([\"Never\", \"Rarely\", \"Sometimes\", \"Often\"], ordered=True)\n",
    "df_mental_health[\"MH_work_intereference_treated\"]= df_mental_health[\"MH_work_intereference_treated\"].astype('category').cat.set_categories([\"Never\", \"Rarely\", \"Sometimes\", \"Often\"], ordered=True)#make factor\n",
    "\n",
    "#Create factors\n",
    "df_mental_health[\"MH_untreated_factor\"] , empty = df_mental_health[\"MH_work_intereference_untreated\"].factorize(sort=True)\n",
    "df_mental_health[\"MH_treated_factor\"] , empty = df_mental_health[\"MH_work_intereference_treated\"].factorize(sort=True)\n",
    "\n",
    "df_mental_health[\"Change_when_treated\"] = df_mental_health.MH_untreated_factor - df_mental_health.MH_treated_factor \n",
    "\n",
    "\n",
    "df_mental_health.groupby(\"Condition\").MH_treated_factor.mean()\n",
    "\n"
   ]
  },
  {
   "cell_type": "markdown",
   "metadata": {},
   "source": [
    "For individuals with a single condidtion the biggest improvement is seen for ADHD. \n",
    "\n"
   ]
  },
  {
   "cell_type": "markdown",
   "metadata": {},
   "source": [
    "## Companies\n",
    "Company Size vs MH importance and PH importance. \n",
    "MH importance by company improves work team reaction. "
   ]
  },
  {
   "cell_type": "code",
   "execution_count": null,
   "metadata": {},
   "outputs": [],
   "source": [
    "df_mhs_core.columns\n",
    "\n",
    "df_mhs_core.Company_size\n"
   ]
  },
  {
   "cell_type": "code",
   "execution_count": null,
   "metadata": {},
   "outputs": [],
   "source": [
    "#make correlation matrix\n",
    "important_columns_cat = [\"Company_MH_benefits\",\"Race\",\"Gender\",\"MH_work_interfere\",\"Company_Size\"]\n",
    "important_columns_cont = ['Age','Company_MH_importance', 'Company_PH_importance','Tech_industry_support_impression','Work_team_reaction_to_MH','Year','comorbidity']\n",
    "columns_to_check = ['Company_MH_benefits','Company_MH_medical_leave_ease','Gender','Company_size','Age','Company_MH_importance', 'Company_PH_importance','Tech_industry_support_impression','Work_team_reaction_to_MH','Year','comorbidity']\n",
    "important_columns_cont = ['Age','Company_MH_importance', 'Company_PH_importance','Tech_industry_support_impression','Work_team_reaction_to_MH','Year','comorbidity']\n",
    "df_mhs_dummies=pd.get_dummies(df_mhs_core[columns_to_check])\n",
    "df_mhs_dummies"
   ]
  },
  {
   "cell_type": "code",
   "execution_count": null,
   "metadata": {},
   "outputs": [],
   "source": [
    "important_columns_cont = ['Age','Company_MH_importance', 'Company_PH_importance','Tech_industry_support_impression','Work_team_reaction_to_MH','Year','comorbidity']\n",
    "df_mhs_dummies=pd.get_dummies(df_mhs_core[columns_to_check])\n",
    "corrMatrix_full = df_mhs_dummies.corr()\n",
    "\n",
    "plt.figure(figsize = [15,15])\n",
    "ht = sns.heatmap(corrMatrix_full, annot = True,cmap = 'vlag_r',fmt = '.2f',center = 0)"
   ]
  }
 ],
 "metadata": {
  "kernelspec": {
   "display_name": "Python 3",
   "language": "python",
   "name": "python3"
  },
  "language_info": {
   "codemirror_mode": {
    "name": "ipython",
    "version": 3
   },
   "file_extension": ".py",
   "mimetype": "text/x-python",
   "name": "python",
   "nbconvert_exporter": "python",
   "pygments_lexer": "ipython3",
   "version": "3.8.2"
  }
 },
 "nbformat": 4,
 "nbformat_minor": 2
}
